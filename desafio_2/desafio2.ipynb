{
  "cells": [
    {
      "cell_type": "markdown",
      "metadata": {
        "id": "SabFKJsmeTCS"
      },
      "source": [
        "# Desafío 2: entrenamiento de embeddings con Gensim sobre Ética a Nicómaco"
      ]
    },
    {
      "cell_type": "markdown",
      "metadata": {
        "id": "kDB5mjC-eTCU"
      },
      "source": [
        "## Obtención y análisis del dataset"
      ]
    },
    {
      "cell_type": "code",
      "execution_count": 1,
      "metadata": {
        "colab": {
          "base_uri": "https://localhost:8080/"
        },
        "id": "Z-sCgo7AeUyn",
        "outputId": "cc90b00a-9681-469c-d4c6-18bcc518838a"
      },
      "outputs": [
        {
          "name": "stdout",
          "output_type": "stream",
          "text": [
            "Requirement already satisfied: numpy in /usr/local/lib/python3.11/dist-packages (1.26.4)\n",
            "Requirement already satisfied: gensim in /usr/local/lib/python3.11/dist-packages (4.3.3)\n",
            "Requirement already satisfied: scipy<1.14.0,>=1.7.0 in /usr/local/lib/python3.11/dist-packages (from gensim) (1.13.1)\n",
            "Requirement already satisfied: smart-open>=1.8.1 in /usr/local/lib/python3.11/dist-packages (from gensim) (7.3.0.post1)\n",
            "Requirement already satisfied: wrapt in /usr/local/lib/python3.11/dist-packages (from smart-open>=1.8.1->gensim) (1.17.2)\n"
          ]
        }
      ],
      "source": [
        "!pip install numpy gensim"
      ]
    },
    {
      "cell_type": "code",
      "execution_count": 2,
      "metadata": {
        "id": "puJpv1yseTCV"
      },
      "outputs": [],
      "source": [
        "# se importan librerías esenciales\n",
        "import os\n",
        "import pandas as pd\n",
        "import matplotlib.pyplot as plt\n",
        "import seaborn as sns\n",
        "import multiprocessing\n",
        "from gensim.models import Word2Vec\n"
      ]
    },
    {
      "cell_type": "code",
      "execution_count": 4,
      "metadata": {
        "colab": {
          "base_uri": "https://localhost:8080/",
          "height": 419
        },
        "id": "-Z2evynAeTCZ",
        "outputId": "19a5984c-a1a8-4336-e548-38098920197a"
      },
      "outputs": [
        {
          "data": {
            "application/vnd.google.colaboratory.intrinsic+json": {
              "summary": "{\n  \"name\": \"df\",\n  \"rows\": 1067,\n  \"fields\": [\n    {\n      \"column\": \"texto\",\n      \"properties\": {\n        \"dtype\": \"string\",\n        \"num_unique_values\": 1046,\n        \"samples\": [\n          \"y la nube muy cargada\",\n          \"Y por esto la fortaleza es cosa penosa, y con mucha raz\\u00f3n es alabada. Porque m\\u00e1s dificultosa cosa es esperar las cosas tristes, que abstenerse de las aplacibles.\",\n          \"Pero si opini\\u00f3n es y no sciencia la que tiene, y el parecer en contrario no es fuerte sino flaco y remiso, como acontece a los que est\\u00e1n en duda, ser\\u00e1 este tal digno de perd\\u00f3n por no perseverar en ellas contra los fuertes deseos. Pero la maldad no es cosa digna de perd\\u00f3n, ni cualquier otra cosa de las que se reprenden.\"\n        ],\n        \"semantic_type\": \"\",\n        \"description\": \"\"\n      }\n    }\n  ]\n}",
              "type": "dataframe",
              "variable_name": "df"
            },
            "text/html": [
              "\n",
              "  <div id=\"df-644e1f1f-96ee-41ba-8579-b39e87385cbc\" class=\"colab-df-container\">\n",
              "    <div>\n",
              "<style scoped>\n",
              "    .dataframe tbody tr th:only-of-type {\n",
              "        vertical-align: middle;\n",
              "    }\n",
              "\n",
              "    .dataframe tbody tr th {\n",
              "        vertical-align: top;\n",
              "    }\n",
              "\n",
              "    .dataframe thead th {\n",
              "        text-align: right;\n",
              "    }\n",
              "</style>\n",
              "<table border=\"1\" class=\"dataframe\">\n",
              "  <thead>\n",
              "    <tr style=\"text-align: right;\">\n",
              "      <th></th>\n",
              "      <th>texto</th>\n",
              "    </tr>\n",
              "  </thead>\n",
              "  <tbody>\n",
              "    <tr>\n",
              "      <th>0</th>\n",
              "      <td>Cualquier arte y cualquier doctrina, y asimism...</td>\n",
              "    </tr>\n",
              "    <tr>\n",
              "      <th>1</th>\n",
              "      <td>Pero como sean muchas las acciones y las artes...</td>\n",
              "    </tr>\n",
              "    <tr>\n",
              "      <th>2</th>\n",
              "      <td>En todas cuantas hay de esta suerte, que debaj...</td>\n",
              "    </tr>\n",
              "    <tr>\n",
              "      <th>3</th>\n",
              "      <td>Presupuesta esta verdad en el capítulo pasado,...</td>\n",
              "    </tr>\n",
              "    <tr>\n",
              "      <th>4</th>\n",
              "      <td>Demuestra asimismo cómo el considerar este fin...</td>\n",
              "    </tr>\n",
              "    <tr>\n",
              "      <th>...</th>\n",
              "      <td>...</td>\n",
              "    </tr>\n",
              "    <tr>\n",
              "      <th>1062</th>\n",
              "      <td>Después que con muy claras razones ha probado ...</td>\n",
              "    </tr>\n",
              "    <tr>\n",
              "      <th>1063</th>\n",
              "      <td>Después désta es la más perfeta la que es conf...</td>\n",
              "    </tr>\n",
              "    <tr>\n",
              "      <th>1064</th>\n",
              "      <td>Capítulo 9. Del saber y de la práctica en esta...</td>\n",
              "    </tr>\n",
              "    <tr>\n",
              "      <th>1065</th>\n",
              "      <td>Trata el filósofo en este capítulo de la neces...</td>\n",
              "    </tr>\n",
              "    <tr>\n",
              "      <th>1066</th>\n",
              "      <td>Pero por ventura, si destas cosas y de las vir...</td>\n",
              "    </tr>\n",
              "  </tbody>\n",
              "</table>\n",
              "<p>1067 rows × 1 columns</p>\n",
              "</div>\n",
              "    <div class=\"colab-df-buttons\">\n",
              "\n",
              "  <div class=\"colab-df-container\">\n",
              "    <button class=\"colab-df-convert\" onclick=\"convertToInteractive('df-644e1f1f-96ee-41ba-8579-b39e87385cbc')\"\n",
              "            title=\"Convert this dataframe to an interactive table.\"\n",
              "            style=\"display:none;\">\n",
              "\n",
              "  <svg xmlns=\"http://www.w3.org/2000/svg\" height=\"24px\" viewBox=\"0 -960 960 960\">\n",
              "    <path d=\"M120-120v-720h720v720H120Zm60-500h600v-160H180v160Zm220 220h160v-160H400v160Zm0 220h160v-160H400v160ZM180-400h160v-160H180v160Zm440 0h160v-160H620v160ZM180-180h160v-160H180v160Zm440 0h160v-160H620v160Z\"/>\n",
              "  </svg>\n",
              "    </button>\n",
              "\n",
              "  <style>\n",
              "    .colab-df-container {\n",
              "      display:flex;\n",
              "      gap: 12px;\n",
              "    }\n",
              "\n",
              "    .colab-df-convert {\n",
              "      background-color: #E8F0FE;\n",
              "      border: none;\n",
              "      border-radius: 50%;\n",
              "      cursor: pointer;\n",
              "      display: none;\n",
              "      fill: #1967D2;\n",
              "      height: 32px;\n",
              "      padding: 0 0 0 0;\n",
              "      width: 32px;\n",
              "    }\n",
              "\n",
              "    .colab-df-convert:hover {\n",
              "      background-color: #E2EBFA;\n",
              "      box-shadow: 0px 1px 2px rgba(60, 64, 67, 0.3), 0px 1px 3px 1px rgba(60, 64, 67, 0.15);\n",
              "      fill: #174EA6;\n",
              "    }\n",
              "\n",
              "    .colab-df-buttons div {\n",
              "      margin-bottom: 4px;\n",
              "    }\n",
              "\n",
              "    [theme=dark] .colab-df-convert {\n",
              "      background-color: #3B4455;\n",
              "      fill: #D2E3FC;\n",
              "    }\n",
              "\n",
              "    [theme=dark] .colab-df-convert:hover {\n",
              "      background-color: #434B5C;\n",
              "      box-shadow: 0px 1px 3px 1px rgba(0, 0, 0, 0.15);\n",
              "      filter: drop-shadow(0px 1px 2px rgba(0, 0, 0, 0.3));\n",
              "      fill: #FFFFFF;\n",
              "    }\n",
              "  </style>\n",
              "\n",
              "    <script>\n",
              "      const buttonEl =\n",
              "        document.querySelector('#df-644e1f1f-96ee-41ba-8579-b39e87385cbc button.colab-df-convert');\n",
              "      buttonEl.style.display =\n",
              "        google.colab.kernel.accessAllowed ? 'block' : 'none';\n",
              "\n",
              "      async function convertToInteractive(key) {\n",
              "        const element = document.querySelector('#df-644e1f1f-96ee-41ba-8579-b39e87385cbc');\n",
              "        const dataTable =\n",
              "          await google.colab.kernel.invokeFunction('convertToInteractive',\n",
              "                                                    [key], {});\n",
              "        if (!dataTable) return;\n",
              "\n",
              "        const docLinkHtml = 'Like what you see? Visit the ' +\n",
              "          '<a target=\"_blank\" href=https://colab.research.google.com/notebooks/data_table.ipynb>data table notebook</a>'\n",
              "          + ' to learn more about interactive tables.';\n",
              "        element.innerHTML = '';\n",
              "        dataTable['output_type'] = 'display_data';\n",
              "        await google.colab.output.renderOutput(dataTable, element);\n",
              "        const docLink = document.createElement('div');\n",
              "        docLink.innerHTML = docLinkHtml;\n",
              "        element.appendChild(docLink);\n",
              "      }\n",
              "    </script>\n",
              "  </div>\n",
              "\n",
              "\n",
              "    <div id=\"df-0f26046f-0674-490d-a70a-19256525673c\">\n",
              "      <button class=\"colab-df-quickchart\" onclick=\"quickchart('df-0f26046f-0674-490d-a70a-19256525673c')\"\n",
              "                title=\"Suggest charts\"\n",
              "                style=\"display:none;\">\n",
              "\n",
              "<svg xmlns=\"http://www.w3.org/2000/svg\" height=\"24px\"viewBox=\"0 0 24 24\"\n",
              "     width=\"24px\">\n",
              "    <g>\n",
              "        <path d=\"M19 3H5c-1.1 0-2 .9-2 2v14c0 1.1.9 2 2 2h14c1.1 0 2-.9 2-2V5c0-1.1-.9-2-2-2zM9 17H7v-7h2v7zm4 0h-2V7h2v10zm4 0h-2v-4h2v4z\"/>\n",
              "    </g>\n",
              "</svg>\n",
              "      </button>\n",
              "\n",
              "<style>\n",
              "  .colab-df-quickchart {\n",
              "      --bg-color: #E8F0FE;\n",
              "      --fill-color: #1967D2;\n",
              "      --hover-bg-color: #E2EBFA;\n",
              "      --hover-fill-color: #174EA6;\n",
              "      --disabled-fill-color: #AAA;\n",
              "      --disabled-bg-color: #DDD;\n",
              "  }\n",
              "\n",
              "  [theme=dark] .colab-df-quickchart {\n",
              "      --bg-color: #3B4455;\n",
              "      --fill-color: #D2E3FC;\n",
              "      --hover-bg-color: #434B5C;\n",
              "      --hover-fill-color: #FFFFFF;\n",
              "      --disabled-bg-color: #3B4455;\n",
              "      --disabled-fill-color: #666;\n",
              "  }\n",
              "\n",
              "  .colab-df-quickchart {\n",
              "    background-color: var(--bg-color);\n",
              "    border: none;\n",
              "    border-radius: 50%;\n",
              "    cursor: pointer;\n",
              "    display: none;\n",
              "    fill: var(--fill-color);\n",
              "    height: 32px;\n",
              "    padding: 0;\n",
              "    width: 32px;\n",
              "  }\n",
              "\n",
              "  .colab-df-quickchart:hover {\n",
              "    background-color: var(--hover-bg-color);\n",
              "    box-shadow: 0 1px 2px rgba(60, 64, 67, 0.3), 0 1px 3px 1px rgba(60, 64, 67, 0.15);\n",
              "    fill: var(--button-hover-fill-color);\n",
              "  }\n",
              "\n",
              "  .colab-df-quickchart-complete:disabled,\n",
              "  .colab-df-quickchart-complete:disabled:hover {\n",
              "    background-color: var(--disabled-bg-color);\n",
              "    fill: var(--disabled-fill-color);\n",
              "    box-shadow: none;\n",
              "  }\n",
              "\n",
              "  .colab-df-spinner {\n",
              "    border: 2px solid var(--fill-color);\n",
              "    border-color: transparent;\n",
              "    border-bottom-color: var(--fill-color);\n",
              "    animation:\n",
              "      spin 1s steps(1) infinite;\n",
              "  }\n",
              "\n",
              "  @keyframes spin {\n",
              "    0% {\n",
              "      border-color: transparent;\n",
              "      border-bottom-color: var(--fill-color);\n",
              "      border-left-color: var(--fill-color);\n",
              "    }\n",
              "    20% {\n",
              "      border-color: transparent;\n",
              "      border-left-color: var(--fill-color);\n",
              "      border-top-color: var(--fill-color);\n",
              "    }\n",
              "    30% {\n",
              "      border-color: transparent;\n",
              "      border-left-color: var(--fill-color);\n",
              "      border-top-color: var(--fill-color);\n",
              "      border-right-color: var(--fill-color);\n",
              "    }\n",
              "    40% {\n",
              "      border-color: transparent;\n",
              "      border-right-color: var(--fill-color);\n",
              "      border-top-color: var(--fill-color);\n",
              "    }\n",
              "    60% {\n",
              "      border-color: transparent;\n",
              "      border-right-color: var(--fill-color);\n",
              "    }\n",
              "    80% {\n",
              "      border-color: transparent;\n",
              "      border-right-color: var(--fill-color);\n",
              "      border-bottom-color: var(--fill-color);\n",
              "    }\n",
              "    90% {\n",
              "      border-color: transparent;\n",
              "      border-bottom-color: var(--fill-color);\n",
              "    }\n",
              "  }\n",
              "</style>\n",
              "\n",
              "      <script>\n",
              "        async function quickchart(key) {\n",
              "          const quickchartButtonEl =\n",
              "            document.querySelector('#' + key + ' button');\n",
              "          quickchartButtonEl.disabled = true;  // To prevent multiple clicks.\n",
              "          quickchartButtonEl.classList.add('colab-df-spinner');\n",
              "          try {\n",
              "            const charts = await google.colab.kernel.invokeFunction(\n",
              "                'suggestCharts', [key], {});\n",
              "          } catch (error) {\n",
              "            console.error('Error during call to suggestCharts:', error);\n",
              "          }\n",
              "          quickchartButtonEl.classList.remove('colab-df-spinner');\n",
              "          quickchartButtonEl.classList.add('colab-df-quickchart-complete');\n",
              "        }\n",
              "        (() => {\n",
              "          let quickchartButtonEl =\n",
              "            document.querySelector('#df-0f26046f-0674-490d-a70a-19256525673c button');\n",
              "          quickchartButtonEl.style.display =\n",
              "            google.colab.kernel.accessAllowed ? 'block' : 'none';\n",
              "        })();\n",
              "      </script>\n",
              "    </div>\n",
              "\n",
              "  <div id=\"id_b272f12a-ed41-4c08-acfb-961d1381c207\">\n",
              "    <style>\n",
              "      .colab-df-generate {\n",
              "        background-color: #E8F0FE;\n",
              "        border: none;\n",
              "        border-radius: 50%;\n",
              "        cursor: pointer;\n",
              "        display: none;\n",
              "        fill: #1967D2;\n",
              "        height: 32px;\n",
              "        padding: 0 0 0 0;\n",
              "        width: 32px;\n",
              "      }\n",
              "\n",
              "      .colab-df-generate:hover {\n",
              "        background-color: #E2EBFA;\n",
              "        box-shadow: 0px 1px 2px rgba(60, 64, 67, 0.3), 0px 1px 3px 1px rgba(60, 64, 67, 0.15);\n",
              "        fill: #174EA6;\n",
              "      }\n",
              "\n",
              "      [theme=dark] .colab-df-generate {\n",
              "        background-color: #3B4455;\n",
              "        fill: #D2E3FC;\n",
              "      }\n",
              "\n",
              "      [theme=dark] .colab-df-generate:hover {\n",
              "        background-color: #434B5C;\n",
              "        box-shadow: 0px 1px 3px 1px rgba(0, 0, 0, 0.15);\n",
              "        filter: drop-shadow(0px 1px 2px rgba(0, 0, 0, 0.3));\n",
              "        fill: #FFFFFF;\n",
              "      }\n",
              "    </style>\n",
              "    <button class=\"colab-df-generate\" onclick=\"generateWithVariable('df')\"\n",
              "            title=\"Generate code using this dataframe.\"\n",
              "            style=\"display:none;\">\n",
              "\n",
              "  <svg xmlns=\"http://www.w3.org/2000/svg\" height=\"24px\"viewBox=\"0 0 24 24\"\n",
              "       width=\"24px\">\n",
              "    <path d=\"M7,19H8.4L18.45,9,17,7.55,7,17.6ZM5,21V16.75L18.45,3.32a2,2,0,0,1,2.83,0l1.4,1.43a1.91,1.91,0,0,1,.58,1.4,1.91,1.91,0,0,1-.58,1.4L9.25,21ZM18.45,9,17,7.55Zm-12,3A5.31,5.31,0,0,0,4.9,8.1,5.31,5.31,0,0,0,1,6.5,5.31,5.31,0,0,0,4.9,4.9,5.31,5.31,0,0,0,6.5,1,5.31,5.31,0,0,0,8.1,4.9,5.31,5.31,0,0,0,12,6.5,5.46,5.46,0,0,0,6.5,12Z\"/>\n",
              "  </svg>\n",
              "    </button>\n",
              "    <script>\n",
              "      (() => {\n",
              "      const buttonEl =\n",
              "        document.querySelector('#id_b272f12a-ed41-4c08-acfb-961d1381c207 button.colab-df-generate');\n",
              "      buttonEl.style.display =\n",
              "        google.colab.kernel.accessAllowed ? 'block' : 'none';\n",
              "\n",
              "      buttonEl.onclick = () => {\n",
              "        google.colab.notebook.generateWithVariable('df');\n",
              "      }\n",
              "      })();\n",
              "    </script>\n",
              "  </div>\n",
              "\n",
              "    </div>\n",
              "  </div>\n"
            ],
            "text/plain": [
              "                                                  texto\n",
              "0     Cualquier arte y cualquier doctrina, y asimism...\n",
              "1     Pero como sean muchas las acciones y las artes...\n",
              "2     En todas cuantas hay de esta suerte, que debaj...\n",
              "3     Presupuesta esta verdad en el capítulo pasado,...\n",
              "4     Demuestra asimismo cómo el considerar este fin...\n",
              "...                                                 ...\n",
              "1062  Después que con muy claras razones ha probado ...\n",
              "1063  Después désta es la más perfeta la que es conf...\n",
              "1064  Capítulo 9. Del saber y de la práctica en esta...\n",
              "1065  Trata el filósofo en este capítulo de la neces...\n",
              "1066  Pero por ventura, si destas cosas y de las vir...\n",
              "\n",
              "[1067 rows x 1 columns]"
            ]
          },
          "execution_count": 4,
          "metadata": {},
          "output_type": "execute_result"
        }
      ],
      "source": [
        "# se lee el corpus de Ética a Nicómaco\n",
        "with open('etica_nicomaco.txt', 'r', encoding='utf-8') as f:\n",
        "    texto = f.read()\n",
        "# se parte el texto en lineas para simular documentos\n",
        "lineas = texto.split('\\n')\n",
        "df = pd.DataFrame(lineas, columns=['texto'])\n",
        "df = df[df['texto'].str.strip() != '']\n",
        "df.reset_index(drop=True, inplace=True)\n",
        "df"
      ]
    },
    {
      "cell_type": "code",
      "execution_count": 5,
      "metadata": {
        "colab": {
          "base_uri": "https://localhost:8080/"
        },
        "id": "ADKWwKfjeTCa",
        "outputId": "bb969783-ebc0-4882-b6f4-b9e30a1f1863"
      },
      "outputs": [
        {
          "name": "stdout",
          "output_type": "stream",
          "text": [
            "Cantidad de documentos: 1067\n"
          ]
        }
      ],
      "source": [
        "print(\"Cantidad de documentos:\", df.shape[0])"
      ]
    },
    {
      "cell_type": "markdown",
      "metadata": {
        "id": "iUqPuBjTeTCa"
      },
      "source": [
        "## Preprocesamiento"
      ]
    },
    {
      "cell_type": "code",
      "execution_count": 6,
      "metadata": {
        "colab": {
          "base_uri": "https://localhost:8080/"
        },
        "id": "qmeOu_roeTCb",
        "outputId": "68b90530-1196-4ca9-d9d3-703d76f7fbd7"
      },
      "outputs": [
        {
          "data": {
            "text/plain": [
              "[['cualquier',\n",
              "  'arte',\n",
              "  'y',\n",
              "  'cualquier',\n",
              "  'doctrina',\n",
              "  'y',\n",
              "  'asimismo',\n",
              "  'toda',\n",
              "  'acción',\n",
              "  'y',\n",
              "  'elección',\n",
              "  'parece',\n",
              "  'que',\n",
              "  'a',\n",
              "  'algún',\n",
              "  'bien',\n",
              "  'es',\n",
              "  'enderezada',\n",
              "  'por',\n",
              "  'tanto',\n",
              "  'discretamente',\n",
              "  'difinieron',\n",
              "  'el',\n",
              "  'bien',\n",
              "  'los',\n",
              "  'que',\n",
              "  'dijeron',\n",
              "  'ser',\n",
              "  'aquello',\n",
              "  'a',\n",
              "  'lo',\n",
              "  'cual',\n",
              "  'todas',\n",
              "  'las',\n",
              "  'cosas',\n",
              "  'se',\n",
              "  'enderezan',\n",
              "  'pero',\n",
              "  'parece',\n",
              "  'que',\n",
              "  'hay',\n",
              "  'en',\n",
              "  'los',\n",
              "  'fines',\n",
              "  'alguna',\n",
              "  'diferencia',\n",
              "  'porque',\n",
              "  'unos',\n",
              "  'de',\n",
              "  'ellos',\n",
              "  'son',\n",
              "  'acciones',\n",
              "  'y',\n",
              "  'otros',\n",
              "  'fuera',\n",
              "  'de',\n",
              "  'las',\n",
              "  'acciones',\n",
              "  'son',\n",
              "  'algunas',\n",
              "  'obras',\n",
              "  'y',\n",
              "  'donde',\n",
              "  'los',\n",
              "  'fines',\n",
              "  'son',\n",
              "  'algunas',\n",
              "  'cosas',\n",
              "  'fuera',\n",
              "  'de',\n",
              "  'las',\n",
              "  'acciones',\n",
              "  'allí',\n",
              "  'mejores',\n",
              "  'son',\n",
              "  'las',\n",
              "  'obras',\n",
              "  'que',\n",
              "  'las',\n",
              "  'mismas',\n",
              "  'acciones'],\n",
              " ['pero',\n",
              "  'como',\n",
              "  'sean',\n",
              "  'muchas',\n",
              "  'las',\n",
              "  'acciones',\n",
              "  'y',\n",
              "  'las',\n",
              "  'artes',\n",
              "  'y',\n",
              "  'las',\n",
              "  'ciencias',\n",
              "  'de',\n",
              "  'necesidad',\n",
              "  'han',\n",
              "  'de',\n",
              "  'ser',\n",
              "  'los',\n",
              "  'fines',\n",
              "  'también',\n",
              "  'muchos',\n",
              "  'porque',\n",
              "  'el',\n",
              "  'fin',\n",
              "  'de',\n",
              "  'la',\n",
              "  'medicina',\n",
              "  'es',\n",
              "  'la',\n",
              "  'salud',\n",
              "  'el',\n",
              "  'de',\n",
              "  'la',\n",
              "  'arte',\n",
              "  'de',\n",
              "  'fabricar',\n",
              "  'naves',\n",
              "  'la',\n",
              "  'nave',\n",
              "  'el',\n",
              "  'del',\n",
              "  'arte',\n",
              "  'militar',\n",
              "  'la',\n",
              "  'victoria',\n",
              "  'el',\n",
              "  'de',\n",
              "  'la',\n",
              "  'disciplina',\n",
              "  'familiar',\n",
              "  'la',\n",
              "  'hacienda'],\n",
              " ['en',\n",
              "  'todas',\n",
              "  'cuantas',\n",
              "  'hay',\n",
              "  'de',\n",
              "  'esta',\n",
              "  'suerte',\n",
              "  'que',\n",
              "  'debajo',\n",
              "  'de',\n",
              "  'una',\n",
              "  'virtud',\n",
              "  'se',\n",
              "  'comprenden',\n",
              "  'como',\n",
              "  'debajo',\n",
              "  'del',\n",
              "  'arte',\n",
              "  'del',\n",
              "  'caballerizo',\n",
              "  'el',\n",
              "  'arte',\n",
              "  'del',\n",
              "  'frenero',\n",
              "  'y',\n",
              "  'todas',\n",
              "  'las',\n",
              "  'demás',\n",
              "  'que',\n",
              "  'tratan',\n",
              "  'los',\n",
              "  'aparejos',\n",
              "  'del',\n",
              "  'caballo',\n",
              "  'y',\n",
              "  'la',\n",
              "  'misma',\n",
              "  'arte',\n",
              "  'de',\n",
              "  'caballerizo',\n",
              "  'con',\n",
              "  'todos',\n",
              "  'los',\n",
              "  'hechos',\n",
              "  'de',\n",
              "  'la',\n",
              "  'guerra',\n",
              "  'debajo',\n",
              "  'del',\n",
              "  'arte',\n",
              "  'de',\n",
              "  'emperador',\n",
              "  'o',\n",
              "  'capitán',\n",
              "  'y',\n",
              "  'de',\n",
              "  'la',\n",
              "  'misma',\n",
              "  'manera',\n",
              "  'otras',\n",
              "  'debajo',\n",
              "  'de',\n",
              "  'otras',\n",
              "  'en',\n",
              "  'todas',\n",
              "  'los',\n",
              "  'fines',\n",
              "  'de',\n",
              "  'las',\n",
              "  'más',\n",
              "  'principales',\n",
              "  'y',\n",
              "  'que',\n",
              "  'contienen',\n",
              "  'a',\n",
              "  'las',\n",
              "  'otras',\n",
              "  'más',\n",
              "  'perfectos',\n",
              "  'y',\n",
              "  'más',\n",
              "  'dignos',\n",
              "  'son',\n",
              "  'de',\n",
              "  'desear',\n",
              "  'que',\n",
              "  'no',\n",
              "  'los',\n",
              "  'de',\n",
              "  'las',\n",
              "  'que',\n",
              "  'están',\n",
              "  'debajo',\n",
              "  'de',\n",
              "  'ellas',\n",
              "  'pues',\n",
              "  'éstos',\n",
              "  'por',\n",
              "  'respecto',\n",
              "  'de',\n",
              "  'aquéllos',\n",
              "  'se',\n",
              "  'pretenden',\n",
              "  'y',\n",
              "  'cuanto',\n",
              "  'a',\n",
              "  'esto',\n",
              "  'no',\n",
              "  'importa',\n",
              "  'nada',\n",
              "  'que',\n",
              "  'los',\n",
              "  'fines',\n",
              "  'sean',\n",
              "  'acciones',\n",
              "  'o',\n",
              "  'alguna',\n",
              "  'otra',\n",
              "  'cosa',\n",
              "  'fuera',\n",
              "  'dellas',\n",
              "  'como',\n",
              "  'en',\n",
              "  'las',\n",
              "  'ciencias',\n",
              "  'que',\n",
              "  'están',\n",
              "  'dichas']]"
            ]
          },
          "execution_count": 6,
          "metadata": {},
          "output_type": "execute_result"
        }
      ],
      "source": [
        "from tensorflow.keras.preprocessing.text import text_to_word_sequence\n",
        "sentence_tokens = []\n",
        "for _, row in df.iterrows():\n",
        "    sentence_tokens.append(text_to_word_sequence(row['texto']))\n",
        "sentence_tokens[:3]"
      ]
    },
    {
      "cell_type": "markdown",
      "metadata": {
        "id": "5uuoIzG7eTCc"
      },
      "source": [
        "## Vectorización"
      ]
    },
    {
      "cell_type": "code",
      "execution_count": 13,
      "metadata": {
        "id": "ycc1UPHjeTCd"
      },
      "outputs": [],
      "source": [
        "from gensim.models.callbacks import CallbackAny2Vec\n",
        "class callback(CallbackAny2Vec):\n",
        "    def __init__(self):\n",
        "        self.epoch = 0\n",
        "    def on_epoch_end(self, model):\n",
        "        loss = model.get_latest_training_loss()\n",
        "        if self.epoch % 100 == 0:\n",
        "          if self.epoch == 0:\n",
        "              print('Loss after epoch {}: {}'.format(self.epoch, loss))\n",
        "          else:\n",
        "              print('Loss after epoch {}: {}'.format(self.epoch, loss- self.loss_previous_step))\n",
        "        self.epoch += 1\n",
        "        self.loss_previous_step = loss"
      ]
    },
    {
      "cell_type": "code",
      "execution_count": 14,
      "metadata": {
        "id": "K3A31_hOeTCe"
      },
      "outputs": [],
      "source": [
        "w2v_model = Word2Vec(min_count=3, window=2, vector_size=400, negative=10, workers=3, sg=1)"
      ]
    },
    {
      "cell_type": "code",
      "execution_count": 15,
      "metadata": {
        "id": "VLRbUeZveTCg"
      },
      "outputs": [],
      "source": [
        "w2v_model.build_vocab(sentence_tokens)"
      ]
    },
    {
      "cell_type": "code",
      "execution_count": 16,
      "metadata": {
        "colab": {
          "base_uri": "https://localhost:8080/"
        },
        "id": "F8SYIEqBeTCh",
        "outputId": "f20b5793-bac4-44ff-d233-35eb6dd1d629"
      },
      "outputs": [
        {
          "name": "stdout",
          "output_type": "stream",
          "text": [
            "Cantidad de documentos en el corpus: 1067\n"
          ]
        }
      ],
      "source": [
        "print(\"Cantidad de documentos en el corpus:\", w2v_model.corpus_count)"
      ]
    },
    {
      "cell_type": "code",
      "execution_count": 17,
      "metadata": {
        "colab": {
          "base_uri": "https://localhost:8080/"
        },
        "id": "vwZ1Ah5LeTCi",
        "outputId": "93e7c02b-7530-4061-81d8-d96cb25b098e"
      },
      "outputs": [
        {
          "name": "stdout",
          "output_type": "stream",
          "text": [
            "Cantidad de words distintas en el corpus: 2351\n"
          ]
        }
      ],
      "source": [
        "print(\"Cantidad de words distintas en el corpus:\", len(w2v_model.wv.index_to_key))"
      ]
    },
    {
      "cell_type": "code",
      "execution_count": 18,
      "metadata": {
        "colab": {
          "base_uri": "https://localhost:8080/"
        },
        "id": "ZYTkcyPaeTCi",
        "outputId": "90cc1cd0-7582-4678-b5fe-e00ec26bf1e2"
      },
      "outputs": [
        {
          "name": "stdout",
          "output_type": "stream",
          "text": [
            "Loss after epoch 0: 279989.40625\n",
            "Loss after epoch 100: 125263.0\n",
            "Loss after epoch 200: 83530.0\n",
            "Loss after epoch 300: 69320.0\n",
            "Loss after epoch 400: 70724.0\n",
            "Loss after epoch 500: 89636.0\n",
            "Loss after epoch 600: 89408.0\n",
            "Loss after epoch 700: 4272.0\n",
            "Loss after epoch 800: 3456.0\n",
            "Loss after epoch 900: 3064.0\n"
          ]
        },
        {
          "data": {
            "text/plain": [
              "(64364079, 108188000)"
            ]
          },
          "execution_count": 18,
          "metadata": {},
          "output_type": "execute_result"
        }
      ],
      "source": [
        "w2v_model.train(sentence_tokens, total_examples=w2v_model.corpus_count, epochs=1000, compute_loss=True, callbacks=[callback()])"
      ]
    },
    {
      "cell_type": "code",
      "execution_count": 19,
      "metadata": {
        "colab": {
          "base_uri": "https://localhost:8080/"
        },
        "id": "fCPLXA6ueTCj",
        "outputId": "2d6e6e37-b968-4b78-961a-c62e3b169fb6"
      },
      "outputs": [
        {
          "name": "stdout",
          "output_type": "stream",
          "text": [
            "Modelo guardado correctamente.\n"
          ]
        }
      ],
      "source": [
        "w2v_model.save('embeddings_nicomaco.model')\n",
        "print('Modelo guardado correctamente.')"
      ]
    },
    {
      "cell_type": "markdown",
      "metadata": {
        "id": "9Md4DcLseTCj"
      },
      "source": [
        "## Ensayos"
      ]
    },
    {
      "cell_type": "code",
      "execution_count": 20,
      "metadata": {
        "id": "tbM9SZB_eTCk"
      },
      "outputs": [],
      "source": [
        "from gensim.models import Word2Vec\n",
        "embeddings_model = Word2Vec.load('embeddings_nicomaco.model')"
      ]
    },
    {
      "cell_type": "markdown",
      "metadata": {
        "id": "LinmkKeYeTCk"
      },
      "source": [
        "### Palabras más similares"
      ]
    },
    {
      "cell_type": "code",
      "execution_count": 21,
      "metadata": {
        "colab": {
          "base_uri": "https://localhost:8080/"
        },
        "id": "NAcUcDIjeTCl",
        "outputId": "12c2c77a-ebf4-4cc3-df31-2de6a4a64e33"
      },
      "outputs": [
        {
          "data": {
            "text/plain": [
              "[('tantos', 0.24553069472312927),\n",
              " ('¿habemos', 0.2378721982240677),\n",
              " ('civiles', 0.23523928225040436),\n",
              " ('cuarto', 0.23223985731601715),\n",
              " ('cítara', 0.22918903827667236),\n",
              " ('perfección', 0.22853094339370728),\n",
              " ('cuanta', 0.22577226161956787),\n",
              " ('heroica', 0.22413939237594604),\n",
              " ('encaminada', 0.2191847860813141),\n",
              " ('imperfetas', 0.21706369519233704)]"
            ]
          },
          "execution_count": 21,
          "metadata": {},
          "output_type": "execute_result"
        }
      ],
      "source": [
        "# Ejemplo con palabras clave del texto de Aristóteles\n",
        "embeddings_model.wv.most_similar(positive=[\"virtud\"], topn=10)"
      ]
    },
    {
      "cell_type": "code",
      "execution_count": 22,
      "metadata": {
        "colab": {
          "base_uri": "https://localhost:8080/"
        },
        "id": "09G5PIraeTCm",
        "outputId": "d29ccd59-0301-4eb9-84a3-5cc664d835f5"
      },
      "outputs": [
        {
          "data": {
            "text/plain": [
              "[('mocedad', 0.25661519169807434),\n",
              " ('tomamos', 0.2502357065677643),\n",
              " ('religión', 0.24681293964385986),\n",
              " ('inquirimos', 0.24583202600479126),\n",
              " ('sumo', 0.24451711773872375),\n",
              " ('perfección', 0.24200183153152466),\n",
              " ('perfecta', 0.241202712059021),\n",
              " ('contemplación', 0.23899519443511963),\n",
              " ('sacrificios', 0.23155485093593597),\n",
              " ('atribuir', 0.22866062819957733)]"
            ]
          },
          "execution_count": 22,
          "metadata": {},
          "output_type": "execute_result"
        }
      ],
      "source": [
        "embeddings_model.wv.most_similar(positive=[\"felicidad\"], topn=10)"
      ]
    },
    {
      "cell_type": "code",
      "execution_count": 23,
      "metadata": {
        "colab": {
          "base_uri": "https://localhost:8080/"
        },
        "id": "tKAGp25zeTCo",
        "outputId": "8d54ed29-4f2b-4070-bc87-d8321fdaf7b3"
      },
      "outputs": [
        {
          "data": {
            "text/plain": [
              "[('sinjusticia', 0.28551408648490906),\n",
              " ('agravios', 0.2611428201198578),\n",
              " ('particular', 0.25084707140922546),\n",
              " ('injusto', 0.24848788976669312),\n",
              " ('prudencia', 0.23119963705539703),\n",
              " ('justo', 0.22457338869571686),\n",
              " ('agravio', 0.22165872156620026),\n",
              " ('enoja', 0.21897433698177338),\n",
              " ('quisieron', 0.21815486252307892),\n",
              " ('carece', 0.2172369509935379)]"
            ]
          },
          "execution_count": 23,
          "metadata": {},
          "output_type": "execute_result"
        }
      ],
      "source": [
        "embeddings_model.wv.most_similar(positive=[\"justicia\"], topn=10)"
      ]
    },
    {
      "cell_type": "markdown",
      "metadata": {
        "id": "0SjeWP9-eTCp"
      },
      "source": [
        "### Palabras menos similares"
      ]
    },
    {
      "cell_type": "code",
      "execution_count": 24,
      "metadata": {
        "colab": {
          "base_uri": "https://localhost:8080/"
        },
        "id": "usNq4UkQeTCq",
        "outputId": "173a8145-cb7d-468e-a03d-1e47dbcf3903"
      },
      "outputs": [
        {
          "data": {
            "text/plain": [
              "[('carecen', 0.078160859644413),\n",
              " ('largo', 0.07523007690906525),\n",
              " ('hacía', 0.04933968186378479),\n",
              " ('miran', 0.04600010812282562),\n",
              " ('rústicos', 0.04386681690812111),\n",
              " ('mandar', 0.03387957438826561),\n",
              " ('bienaventurados', 0.030427519232034683),\n",
              " ('romanos', 0.02854960598051548),\n",
              " ('perdido', 0.02837335877120495),\n",
              " ('siéndolo', 0.02462499588727951)]"
            ]
          },
          "execution_count": 24,
          "metadata": {},
          "output_type": "execute_result"
        }
      ],
      "source": [
        "embeddings_model.wv.most_similar(negative=[\"virtud\"], topn=10)"
      ]
    },
    {
      "cell_type": "markdown",
      "metadata": {
        "id": "N9sboa2leTCr"
      },
      "source": [
        "### Tests de analogías"
      ]
    },
    {
      "cell_type": "code",
      "execution_count": 25,
      "metadata": {
        "colab": {
          "base_uri": "https://localhost:8080/"
        },
        "id": "boRAi1k2eTCs",
        "outputId": "5fcdcde2-fb99-4c28-8b2e-452e9ae6300b"
      },
      "outputs": [
        {
          "data": {
            "text/plain": [
              "[('pesadas', 0.28799501061439514)]"
            ]
          },
          "execution_count": 25,
          "metadata": {},
          "output_type": "execute_result"
        }
      ],
      "source": [
        "# Ejemplo: Emb(virtud):Emb(placer)::Emb(felicidad):Emb(?)\n",
        "embeddings_model.wv.most_similar(positive=['felicidad', 'placer'], negative=['virtud'], topn=1)"
      ]
    },
    {
      "cell_type": "markdown",
      "metadata": {
        "id": "1eQhCtFfeTCt"
      },
      "source": [
        "## Visualizaciones"
      ]
    },
    {
      "cell_type": "code",
      "execution_count": 26,
      "metadata": {
        "id": "-Rn6jueAeTCu"
      },
      "outputs": [],
      "source": [
        "from sklearn.manifold import TSNE\n",
        "import numpy as np\n",
        "def reduce_dimensions(model, num_dimensions=2):\n",
        "    vectors = np.asarray(model.wv.vectors)\n",
        "    labels = np.asarray(model.wv.index_to_key)\n",
        "    tsne = TSNE(n_components=num_dimensions, random_state=0)\n",
        "    vectors = tsne.fit_transform(vectors)\n",
        "    return vectors, labels"
      ]
    },
    {
      "cell_type": "code",
      "execution_count": 28,
      "metadata": {
        "colab": {
          "base_uri": "https://localhost:8080/",
          "height": 542
        },
        "id": "uTKHCNE7eTCv",
        "outputId": "08441267-9408-4c9c-d9e2-824324b2bfd5"
      },
      "outputs": [
        {
          "data": {
            "text/html": [
              "<html>\n",
              "<head><meta charset=\"utf-8\" /></head>\n",
              "<body>\n",
              "    <div>            <script src=\"https://cdnjs.cloudflare.com/ajax/libs/mathjax/2.7.5/MathJax.js?config=TeX-AMS-MML_SVG\"></script><script type=\"text/javascript\">if (window.MathJax && window.MathJax.Hub && window.MathJax.Hub.Config) {window.MathJax.Hub.Config({SVG: {font: \"STIX-Web\"}});}</script>                <script type=\"text/javascript\">window.PlotlyConfig = {MathJaxConfig: 'local'};</script>\n",
              "        <script charset=\"utf-8\" src=\"https://cdn.plot.ly/plotly-2.35.2.min.js\"></script>                <div id=\"cfe37c2e-31c9-4f94-867d-1519e18d8b77\" class=\"plotly-graph-div\" style=\"height:525px; width:100%;\"></div>            <script type=\"text/javascript\">                                    window.PLOTLYENV=window.PLOTLYENV || {};                                    if (document.getElementById(\"cfe37c2e-31c9-4f94-867d-1519e18d8b77\")) {                    Plotly.newPlot(                        \"cfe37c2e-31c9-4f94-867d-1519e18d8b77\",                        [{\"hovertemplate\":\"x=%{x}\\u003cbr\\u003ey=%{y}\\u003cbr\\u003etext=%{text}\\u003cextra\\u003e\\u003c\\u002fextra\\u003e\",\"legendgroup\":\"\",\"marker\":{\"color\":\"#636efa\",\"symbol\":\"circle\"},\"mode\":\"markers+text\",\"name\":\"\",\"orientation\":\"v\",\"showlegend\":false,\"text\":[\"que\",\"de\",\"y\",\"la\",\"el\",\"en\",\"los\",\"es\",\"lo\",\"no\",\"a\",\"se\",\"las\",\"por\",\"porque\",\"cosas\",\"pues\",\"como\",\"pero\",\"más\",\"o\",\"son\",\"con\",\"cosa\",\"del\",\"manera\",\"ni\",\"ser\",\"si\",\"bien\",\"al\",\"parece\",\"para\",\"uno\",\"esto\",\"sino\",\"su\",\"una\",\"también\",\"misma\",\"así\",\"ha\",\"hay\",\"razón\",\"todo\",\"mismo\",\"le\",\"tiene\",\"sí\",\"virtud\",\"hace\",\"cual\",\"hacer\",\"otro\",\"hombre\",\"tal\",\"amistad\",\"deleite\",\"está\",\"otros\",\"hombres\",\"tienen\",\"otra\",\"qué\",\"cada\",\"ya\",\"todos\",\"capítulo\",\"entre\",\"un\",\"consiste\",\"todas\",\"amigos\",\"aunque\",\"conviene\",\"puede\",\"bueno\",\"les\",\"cuando\",\"tales\",\"muy\",\"alguna\",\"cuanto\",\"esta\",\"conforme\",\"hacen\",\"menos\",\"fin\",\"sus\",\"parte\",\"otras\",\"habemos\",\"cómo\",\"dos\",\"sea\",\"dice\",\"decir\",\"necesidad\",\"demás\",\"mejor\",\"deleites\",\"buena\",\"vida\",\"este\",\"justo\",\"dicho\",\"aun\",\"estas\",\"tener\",\"unos\",\"causa\",\"proprio\",\"sin\",\"han\",\"obra\",\"dicen\",\"será\",\"ellos\",\"cuales\",\"verdad\",\"asimismo\",\"aquello\",\"medio\",\"mucho\",\"tampoco\",\"mas\",\"amigo\",\"él\",\"desta\",\"obras\",\"entendimiento\",\"hábito\",\"buenos\",\"virtudes\",\"ninguno\",\"felicidad\",\"ninguna\",\"justicia\",\"tratar\",\"vivir\",\"ventura\",\"dar\",\"semejantes\",\"mayor\",\"prudencia\",\"república\",\"voluntad\",\"trata\",\"quien\",\"toda\",\"muchas\",\"entender\",\"bienes\",\"mismos\",\"nos\",\"algún\",\"ejercicio\",\"elección\",\"aquel\",\"muchos\",\"naturaleza\",\"buenas\",\"exceso\",\"están\",\"buen\",\"desto\",\"dellos\",\"tanto\",\"mal\",\"honra\",\"contrario\",\"donde\",\"ejercicios\",\"sciencia\",\"eso\",\"siempre\",\"común\",\"veces\",\"malo\",\"consulta\",\"unas\",\"agravio\",\"cualquier\",\"haber\",\"después\",\"consisten\",\"dellas\",\"algunos\",\"género\",\"toca\",\"principio\",\"varón\",\"antes\",\"agora\",\"ésta\",\"opinión\",\"procede\",\"nuestra\",\"pueden\",\"éstos\"],\"x\":[-0.16984285,-0.08115844,-0.1231446,0.21064028,0.12724066,-0.21522777,-0.4638655,0.21027403,-0.16327165,-0.14964093,-0.1450744,-0.26141074,-0.59192085,-0.12311377,-0.12951115,-0.5770589,-0.111087166,-0.16424173,-0.15731832,-0.16577116,-0.00014543165,-0.6632075,-0.31183705,0.13134938,0.11606262,-0.0143672535,-0.11795021,-0.05810413,-0.089404054,-0.031776052,-0.004723799,-0.113895744,-0.16683793,0.0034113743,-0.117598146,-0.07761019,0.058830556,0.051374227,-0.19875371,0.024562841,-0.14710419,0.120383434,-0.16352065,0.07029214,-0.036090653,-0.057345003,0.13787913,0.07523545,-0.19527696,0.11155505,0.01143825,-0.05012759,-0.18358102,0.10856393,0.14585233,0.22078274,-0.05654578,-0.038937256,-0.028873442,-0.5870582,-0.4676075,-0.4146015,0.18717755,-0.043526065,0.033480812,-0.0808545,-0.36681154,-1.2849704,-0.26740983,0.14219649,-0.00020677075,-0.4560844,-0.6396469,-0.13658403,-0.051439553,-0.06351948,0.1825901,-0.49229547,-0.28323048,-0.671103,-0.29863665,-0.04923877,-0.13550474,0.120403,0.23072082,-0.7754707,-0.22167371,-0.11588493,-0.4645695,0.23490833,-0.59570277,0.27516958,-0.14642984,-0.3199847,0.48564857,0.21318646,0.03386518,-0.041965984,-0.54396564,0.2551706,-1.7973851,0.47795537,0.021240456,0.17419668,0.19872521,-0.052855138,-0.36372164,-0.8892917,-0.19205852,-1.074441,-0.04335743,-0.011138772,0.0030889073,-0.81340075,0.43993825,-0.43940166,0.5702391,-0.5547617,-0.8233882,0.1422988,-0.11395508,0.061618544,0.35497066,-0.5491049,-0.10625234,-0.15564446,0.22992562,-0.08190636,0.17028396,-0.77498513,0.06172244,0.32294866,-0.7270949,-0.40896958,-0.30907544,0.2045044,-0.047047995,0.12710612,0.03970543,0.8072335,-0.1898719,0.12120284,-1.1621141,0.39593673,0.30989176,0.7743656,0.11798485,0.36530676,-0.2932916,0.6497144,-0.74912244,0.123642564,-0.52948385,-0.82618177,-1.2293987,0.009312022,0.08340623,0.046520572,0.36303708,-0.66651905,0.035723053,-0.9505556,1.2057191,-1.3956083,0.25568068,-0.23655865,-0.45197132,-0.2804048,0.40518636,0.22487111,0.025682442,-0.29034606,-0.664484,-0.09738045,-0.41533735,-0.116440825,0.11954532,-0.54654586,0.2679566,-0.1063343,-1.2615993,-0.02609587,0.19785723,-0.24943084,-0.19261873,-0.61188245,-0.351011,-0.5982091,-0.03742298,-0.085510805,-0.18778658,0.6829628,-0.2380642,0.39671662,0.6603826,-0.25241548,0.44077018,0.5187979,-0.53649414,-0.743021],\"xaxis\":\"x\",\"y\":[0.04404217,-0.19922413,0.0010901596,-0.2203364,0.20643982,-0.059928,-0.26569322,0.12073334,0.28595984,0.14390521,-0.108830184,0.05171262,-0.11174257,-0.051559247,-0.058414992,-0.08803433,-0.06962205,-0.024737941,0.03452439,0.013230038,0.028377652,-0.31986755,-0.016540354,0.071995996,0.013440066,-0.123617075,0.079149574,0.019821534,0.115002014,0.17128661,0.21356897,-0.094376996,-0.039108578,0.22474234,0.11381041,0.013909256,0.06589332,-0.19057164,-0.079901524,-0.24467735,0.008571002,0.081336655,-0.0622031,-0.14299251,0.21160327,0.29563394,0.08964382,0.01923109,-0.022056878,-0.20530164,0.27217427,-0.0011602119,0.14486337,0.28361338,0.35288545,0.12733524,-0.3213816,0.053021137,0.08839141,-0.2516036,-0.35414863,-0.25410882,-0.13680859,0.10763431,0.07619753,0.04377774,-0.17533492,2.232998,-0.40043178,0.21036255,-0.0070836707,-0.12521192,-0.48879257,-0.0060790135,0.3154464,0.3627232,0.326021,-0.173496,0.046401955,-0.22111283,-0.18536773,-0.013610885,-0.1343489,-0.18183608,-0.10271326,-0.32877216,0.13290459,0.124897696,-0.35721463,-0.1863928,-0.3618406,-0.2031154,-0.084398925,-0.4304111,0.27003714,0.1196434,0.07774372,-0.2832554,-0.3508124,0.057412315,-1.2748457,0.028888617,-0.29060748,0.29314858,0.58603233,-0.010676507,-0.17147896,-0.1856482,0.04623681,-0.5425229,-0.1875967,0.2114326,-0.25148252,-0.34290132,0.12762794,-0.1998874,0.065085836,-0.14879136,-0.26548797,-0.09199043,-0.1367109,0.59191954,0.0032450368,0.12166718,0.1359645,0.02529656,0.4406094,0.42218715,-0.24301715,-0.22895254,-0.032777663,0.1390515,-0.78159356,-0.486788,0.33050388,-0.23335545,0.12398458,-0.25377074,-0.45119902,0.4591872,0.16174795,0.23612344,-0.4769237,-0.09225145,-0.57614756,-1.2875375,0.29609784,-0.41654968,0.35747638,-0.35701934,-0.11112171,-0.03427419,-0.43628955,-0.36624962,0.16796458,0.28461853,0.44453323,0.023852177,0.48384663,-0.74012184,-0.16132489,0.020229591,-2.00443,-0.5613357,0.3711767,0.016647136,0.01356931,0.03696921,0.3062292,-0.2126284,0.30485114,-0.14019147,-0.6700907,-0.30071786,0.61522096,0.35459426,-0.4760754,0.08753796,0.4756297,0.5329253,-0.21230659,0.73788065,0.36037773,0.09898407,0.02435026,-0.56953865,-0.48083267,-0.28274328,-0.21609794,-0.2617443,0.3609338,0.9796103,0.5477632,-0.34218428,-0.2860985,-0.27478263,-0.38579425,-0.32868582,-0.49946928,-0.56232685],\"yaxis\":\"y\",\"type\":\"scatter\"}],                        {\"template\":{\"data\":{\"histogram2dcontour\":[{\"type\":\"histogram2dcontour\",\"colorbar\":{\"outlinewidth\":0,\"ticks\":\"\"},\"colorscale\":[[0.0,\"#0d0887\"],[0.1111111111111111,\"#46039f\"],[0.2222222222222222,\"#7201a8\"],[0.3333333333333333,\"#9c179e\"],[0.4444444444444444,\"#bd3786\"],[0.5555555555555556,\"#d8576b\"],[0.6666666666666666,\"#ed7953\"],[0.7777777777777778,\"#fb9f3a\"],[0.8888888888888888,\"#fdca26\"],[1.0,\"#f0f921\"]]}],\"choropleth\":[{\"type\":\"choropleth\",\"colorbar\":{\"outlinewidth\":0,\"ticks\":\"\"}}],\"histogram2d\":[{\"type\":\"histogram2d\",\"colorbar\":{\"outlinewidth\":0,\"ticks\":\"\"},\"colorscale\":[[0.0,\"#0d0887\"],[0.1111111111111111,\"#46039f\"],[0.2222222222222222,\"#7201a8\"],[0.3333333333333333,\"#9c179e\"],[0.4444444444444444,\"#bd3786\"],[0.5555555555555556,\"#d8576b\"],[0.6666666666666666,\"#ed7953\"],[0.7777777777777778,\"#fb9f3a\"],[0.8888888888888888,\"#fdca26\"],[1.0,\"#f0f921\"]]}],\"heatmap\":[{\"type\":\"heatmap\",\"colorbar\":{\"outlinewidth\":0,\"ticks\":\"\"},\"colorscale\":[[0.0,\"#0d0887\"],[0.1111111111111111,\"#46039f\"],[0.2222222222222222,\"#7201a8\"],[0.3333333333333333,\"#9c179e\"],[0.4444444444444444,\"#bd3786\"],[0.5555555555555556,\"#d8576b\"],[0.6666666666666666,\"#ed7953\"],[0.7777777777777778,\"#fb9f3a\"],[0.8888888888888888,\"#fdca26\"],[1.0,\"#f0f921\"]]}],\"heatmapgl\":[{\"type\":\"heatmapgl\",\"colorbar\":{\"outlinewidth\":0,\"ticks\":\"\"},\"colorscale\":[[0.0,\"#0d0887\"],[0.1111111111111111,\"#46039f\"],[0.2222222222222222,\"#7201a8\"],[0.3333333333333333,\"#9c179e\"],[0.4444444444444444,\"#bd3786\"],[0.5555555555555556,\"#d8576b\"],[0.6666666666666666,\"#ed7953\"],[0.7777777777777778,\"#fb9f3a\"],[0.8888888888888888,\"#fdca26\"],[1.0,\"#f0f921\"]]}],\"contourcarpet\":[{\"type\":\"contourcarpet\",\"colorbar\":{\"outlinewidth\":0,\"ticks\":\"\"}}],\"contour\":[{\"type\":\"contour\",\"colorbar\":{\"outlinewidth\":0,\"ticks\":\"\"},\"colorscale\":[[0.0,\"#0d0887\"],[0.1111111111111111,\"#46039f\"],[0.2222222222222222,\"#7201a8\"],[0.3333333333333333,\"#9c179e\"],[0.4444444444444444,\"#bd3786\"],[0.5555555555555556,\"#d8576b\"],[0.6666666666666666,\"#ed7953\"],[0.7777777777777778,\"#fb9f3a\"],[0.8888888888888888,\"#fdca26\"],[1.0,\"#f0f921\"]]}],\"surface\":[{\"type\":\"surface\",\"colorbar\":{\"outlinewidth\":0,\"ticks\":\"\"},\"colorscale\":[[0.0,\"#0d0887\"],[0.1111111111111111,\"#46039f\"],[0.2222222222222222,\"#7201a8\"],[0.3333333333333333,\"#9c179e\"],[0.4444444444444444,\"#bd3786\"],[0.5555555555555556,\"#d8576b\"],[0.6666666666666666,\"#ed7953\"],[0.7777777777777778,\"#fb9f3a\"],[0.8888888888888888,\"#fdca26\"],[1.0,\"#f0f921\"]]}],\"mesh3d\":[{\"type\":\"mesh3d\",\"colorbar\":{\"outlinewidth\":0,\"ticks\":\"\"}}],\"scatter\":[{\"fillpattern\":{\"fillmode\":\"overlay\",\"size\":10,\"solidity\":0.2},\"type\":\"scatter\"}],\"parcoords\":[{\"type\":\"parcoords\",\"line\":{\"colorbar\":{\"outlinewidth\":0,\"ticks\":\"\"}}}],\"scatterpolargl\":[{\"type\":\"scatterpolargl\",\"marker\":{\"colorbar\":{\"outlinewidth\":0,\"ticks\":\"\"}}}],\"bar\":[{\"error_x\":{\"color\":\"#2a3f5f\"},\"error_y\":{\"color\":\"#2a3f5f\"},\"marker\":{\"line\":{\"color\":\"#E5ECF6\",\"width\":0.5},\"pattern\":{\"fillmode\":\"overlay\",\"size\":10,\"solidity\":0.2}},\"type\":\"bar\"}],\"scattergeo\":[{\"type\":\"scattergeo\",\"marker\":{\"colorbar\":{\"outlinewidth\":0,\"ticks\":\"\"}}}],\"scatterpolar\":[{\"type\":\"scatterpolar\",\"marker\":{\"colorbar\":{\"outlinewidth\":0,\"ticks\":\"\"}}}],\"histogram\":[{\"marker\":{\"pattern\":{\"fillmode\":\"overlay\",\"size\":10,\"solidity\":0.2}},\"type\":\"histogram\"}],\"scattergl\":[{\"type\":\"scattergl\",\"marker\":{\"colorbar\":{\"outlinewidth\":0,\"ticks\":\"\"}}}],\"scatter3d\":[{\"type\":\"scatter3d\",\"line\":{\"colorbar\":{\"outlinewidth\":0,\"ticks\":\"\"}},\"marker\":{\"colorbar\":{\"outlinewidth\":0,\"ticks\":\"\"}}}],\"scattermapbox\":[{\"type\":\"scattermapbox\",\"marker\":{\"colorbar\":{\"outlinewidth\":0,\"ticks\":\"\"}}}],\"scatterternary\":[{\"type\":\"scatterternary\",\"marker\":{\"colorbar\":{\"outlinewidth\":0,\"ticks\":\"\"}}}],\"scattercarpet\":[{\"type\":\"scattercarpet\",\"marker\":{\"colorbar\":{\"outlinewidth\":0,\"ticks\":\"\"}}}],\"carpet\":[{\"aaxis\":{\"endlinecolor\":\"#2a3f5f\",\"gridcolor\":\"white\",\"linecolor\":\"white\",\"minorgridcolor\":\"white\",\"startlinecolor\":\"#2a3f5f\"},\"baxis\":{\"endlinecolor\":\"#2a3f5f\",\"gridcolor\":\"white\",\"linecolor\":\"white\",\"minorgridcolor\":\"white\",\"startlinecolor\":\"#2a3f5f\"},\"type\":\"carpet\"}],\"table\":[{\"cells\":{\"fill\":{\"color\":\"#EBF0F8\"},\"line\":{\"color\":\"white\"}},\"header\":{\"fill\":{\"color\":\"#C8D4E3\"},\"line\":{\"color\":\"white\"}},\"type\":\"table\"}],\"barpolar\":[{\"marker\":{\"line\":{\"color\":\"#E5ECF6\",\"width\":0.5},\"pattern\":{\"fillmode\":\"overlay\",\"size\":10,\"solidity\":0.2}},\"type\":\"barpolar\"}],\"pie\":[{\"automargin\":true,\"type\":\"pie\"}]},\"layout\":{\"autotypenumbers\":\"strict\",\"colorway\":[\"#636efa\",\"#EF553B\",\"#00cc96\",\"#ab63fa\",\"#FFA15A\",\"#19d3f3\",\"#FF6692\",\"#B6E880\",\"#FF97FF\",\"#FECB52\"],\"font\":{\"color\":\"#2a3f5f\"},\"hovermode\":\"closest\",\"hoverlabel\":{\"align\":\"left\"},\"paper_bgcolor\":\"white\",\"plot_bgcolor\":\"#E5ECF6\",\"polar\":{\"bgcolor\":\"#E5ECF6\",\"angularaxis\":{\"gridcolor\":\"white\",\"linecolor\":\"white\",\"ticks\":\"\"},\"radialaxis\":{\"gridcolor\":\"white\",\"linecolor\":\"white\",\"ticks\":\"\"}},\"ternary\":{\"bgcolor\":\"#E5ECF6\",\"aaxis\":{\"gridcolor\":\"white\",\"linecolor\":\"white\",\"ticks\":\"\"},\"baxis\":{\"gridcolor\":\"white\",\"linecolor\":\"white\",\"ticks\":\"\"},\"caxis\":{\"gridcolor\":\"white\",\"linecolor\":\"white\",\"ticks\":\"\"}},\"coloraxis\":{\"colorbar\":{\"outlinewidth\":0,\"ticks\":\"\"}},\"colorscale\":{\"sequential\":[[0.0,\"#0d0887\"],[0.1111111111111111,\"#46039f\"],[0.2222222222222222,\"#7201a8\"],[0.3333333333333333,\"#9c179e\"],[0.4444444444444444,\"#bd3786\"],[0.5555555555555556,\"#d8576b\"],[0.6666666666666666,\"#ed7953\"],[0.7777777777777778,\"#fb9f3a\"],[0.8888888888888888,\"#fdca26\"],[1.0,\"#f0f921\"]],\"sequentialminus\":[[0.0,\"#0d0887\"],[0.1111111111111111,\"#46039f\"],[0.2222222222222222,\"#7201a8\"],[0.3333333333333333,\"#9c179e\"],[0.4444444444444444,\"#bd3786\"],[0.5555555555555556,\"#d8576b\"],[0.6666666666666666,\"#ed7953\"],[0.7777777777777778,\"#fb9f3a\"],[0.8888888888888888,\"#fdca26\"],[1.0,\"#f0f921\"]],\"diverging\":[[0,\"#8e0152\"],[0.1,\"#c51b7d\"],[0.2,\"#de77ae\"],[0.3,\"#f1b6da\"],[0.4,\"#fde0ef\"],[0.5,\"#f7f7f7\"],[0.6,\"#e6f5d0\"],[0.7,\"#b8e186\"],[0.8,\"#7fbc41\"],[0.9,\"#4d9221\"],[1,\"#276419\"]]},\"xaxis\":{\"gridcolor\":\"white\",\"linecolor\":\"white\",\"ticks\":\"\",\"title\":{\"standoff\":15},\"zerolinecolor\":\"white\",\"automargin\":true,\"zerolinewidth\":2},\"yaxis\":{\"gridcolor\":\"white\",\"linecolor\":\"white\",\"ticks\":\"\",\"title\":{\"standoff\":15},\"zerolinecolor\":\"white\",\"automargin\":true,\"zerolinewidth\":2},\"scene\":{\"xaxis\":{\"backgroundcolor\":\"#E5ECF6\",\"gridcolor\":\"white\",\"linecolor\":\"white\",\"showbackground\":true,\"ticks\":\"\",\"zerolinecolor\":\"white\",\"gridwidth\":2},\"yaxis\":{\"backgroundcolor\":\"#E5ECF6\",\"gridcolor\":\"white\",\"linecolor\":\"white\",\"showbackground\":true,\"ticks\":\"\",\"zerolinecolor\":\"white\",\"gridwidth\":2},\"zaxis\":{\"backgroundcolor\":\"#E5ECF6\",\"gridcolor\":\"white\",\"linecolor\":\"white\",\"showbackground\":true,\"ticks\":\"\",\"zerolinecolor\":\"white\",\"gridwidth\":2}},\"shapedefaults\":{\"line\":{\"color\":\"#2a3f5f\"}},\"annotationdefaults\":{\"arrowcolor\":\"#2a3f5f\",\"arrowhead\":0,\"arrowwidth\":1},\"geo\":{\"bgcolor\":\"white\",\"landcolor\":\"#E5ECF6\",\"subunitcolor\":\"white\",\"showland\":true,\"showlakes\":true,\"lakecolor\":\"white\"},\"title\":{\"x\":0.05},\"mapbox\":{\"style\":\"light\"}}},\"xaxis\":{\"anchor\":\"y\",\"domain\":[0.0,1.0],\"title\":{\"text\":\"x\"}},\"yaxis\":{\"anchor\":\"x\",\"domain\":[0.0,1.0],\"title\":{\"text\":\"y\"}},\"legend\":{\"tracegroupgap\":0},\"margin\":{\"t\":60}},                        {\"responsive\": true}                    ).then(function(){\n",
              "                            \n",
              "var gd = document.getElementById('cfe37c2e-31c9-4f94-867d-1519e18d8b77');\n",
              "var x = new MutationObserver(function (mutations, observer) {{\n",
              "        var display = window.getComputedStyle(gd).display;\n",
              "        if (!display || display === 'none') {{\n",
              "            console.log([gd, 'removed!']);\n",
              "            Plotly.purge(gd);\n",
              "            observer.disconnect();\n",
              "        }}\n",
              "}});\n",
              "\n",
              "// Listen for the removal of the full notebook cells\n",
              "var notebookContainer = gd.closest('#notebook-container');\n",
              "if (notebookContainer) {{\n",
              "    x.observe(notebookContainer, {childList: true});\n",
              "}}\n",
              "\n",
              "// Listen for the clearing of the current output cell\n",
              "var outputEl = gd.closest('.output');\n",
              "if (outputEl) {{\n",
              "    x.observe(outputEl, {childList: true});\n",
              "}}\n",
              "\n",
              "                        })                };                            </script>        </div>\n",
              "</body>\n",
              "</html>"
            ]
          },
          "metadata": {},
          "output_type": "display_data"
        }
      ],
      "source": [
        "import plotly.express as px\n",
        "vecs, labels = reduce_dimensions(embeddings_model)\n",
        "MAX_WORDS=200\n",
        "fig = px.scatter(x=vecs[:MAX_WORDS,0], y=vecs[:MAX_WORDS,1], text=labels[:MAX_WORDS])\n",
        "fig.show()"
      ]
    },
    {
      "cell_type": "code",
      "execution_count": 29,
      "metadata": {
        "colab": {
          "base_uri": "https://localhost:8080/",
          "height": 542
        },
        "id": "HXxohArveTCv",
        "outputId": "65a6e892-466d-42c3-f479-191179d5a51a"
      },
      "outputs": [
        {
          "data": {
            "text/html": [
              "<html>\n",
              "<head><meta charset=\"utf-8\" /></head>\n",
              "<body>\n",
              "    <div>            <script src=\"https://cdnjs.cloudflare.com/ajax/libs/mathjax/2.7.5/MathJax.js?config=TeX-AMS-MML_SVG\"></script><script type=\"text/javascript\">if (window.MathJax && window.MathJax.Hub && window.MathJax.Hub.Config) {window.MathJax.Hub.Config({SVG: {font: \"STIX-Web\"}});}</script>                <script type=\"text/javascript\">window.PlotlyConfig = {MathJaxConfig: 'local'};</script>\n",
              "        <script charset=\"utf-8\" src=\"https://cdn.plot.ly/plotly-2.35.2.min.js\"></script>                <div id=\"c5638eb9-e1bf-41e2-a91b-78bb2aef8f82\" class=\"plotly-graph-div\" style=\"height:525px; width:100%;\"></div>            <script type=\"text/javascript\">                                    window.PLOTLYENV=window.PLOTLYENV || {};                                    if (document.getElementById(\"c5638eb9-e1bf-41e2-a91b-78bb2aef8f82\")) {                    Plotly.newPlot(                        \"c5638eb9-e1bf-41e2-a91b-78bb2aef8f82\",                        [{\"hovertemplate\":\"x=%{x}\\u003cbr\\u003ey=%{y}\\u003cbr\\u003ez=%{z}\\u003cbr\\u003etext=%{text}\\u003cextra\\u003e\\u003c\\u002fextra\\u003e\",\"legendgroup\":\"\",\"marker\":{\"color\":\"#636efa\",\"symbol\":\"circle\",\"size\":2},\"mode\":\"markers+text\",\"name\":\"\",\"scene\":\"scene\",\"showlegend\":false,\"text\":[\"que\",\"de\",\"y\",\"la\",\"el\",\"en\",\"los\",\"es\",\"lo\",\"no\",\"a\",\"se\",\"las\",\"por\",\"porque\",\"cosas\",\"pues\",\"como\",\"pero\",\"más\",\"o\",\"son\",\"con\",\"cosa\",\"del\",\"manera\",\"ni\",\"ser\",\"si\",\"bien\",\"al\",\"parece\",\"para\",\"uno\",\"esto\",\"sino\",\"su\",\"una\",\"también\",\"misma\",\"así\",\"ha\",\"hay\",\"razón\",\"todo\",\"mismo\",\"le\",\"tiene\",\"sí\",\"virtud\",\"hace\",\"cual\",\"hacer\",\"otro\",\"hombre\",\"tal\",\"amistad\",\"deleite\",\"está\",\"otros\",\"hombres\",\"tienen\",\"otra\",\"qué\",\"cada\",\"ya\",\"todos\",\"capítulo\",\"entre\",\"un\",\"consiste\",\"todas\",\"amigos\",\"aunque\",\"conviene\",\"puede\",\"bueno\",\"les\",\"cuando\",\"tales\",\"muy\",\"alguna\",\"cuanto\",\"esta\",\"conforme\",\"hacen\",\"menos\",\"fin\",\"sus\",\"parte\",\"otras\",\"habemos\",\"cómo\",\"dos\",\"sea\",\"dice\",\"decir\",\"necesidad\",\"demás\",\"mejor\",\"deleites\",\"buena\",\"vida\",\"este\",\"justo\",\"dicho\",\"aun\",\"estas\",\"tener\",\"unos\",\"causa\",\"proprio\",\"sin\",\"han\",\"obra\",\"dicen\",\"será\",\"ellos\",\"cuales\",\"verdad\",\"asimismo\",\"aquello\",\"medio\",\"mucho\",\"tampoco\",\"mas\",\"amigo\",\"él\",\"desta\",\"obras\",\"entendimiento\",\"hábito\",\"buenos\",\"virtudes\",\"ninguno\",\"felicidad\",\"ninguna\",\"justicia\",\"tratar\",\"vivir\",\"ventura\",\"dar\",\"semejantes\",\"mayor\",\"prudencia\",\"república\",\"voluntad\",\"trata\",\"quien\",\"toda\",\"muchas\",\"entender\",\"bienes\",\"mismos\",\"nos\",\"algún\",\"ejercicio\",\"elección\",\"aquel\",\"muchos\",\"naturaleza\",\"buenas\",\"exceso\",\"están\",\"buen\",\"desto\",\"dellos\",\"tanto\",\"mal\",\"honra\",\"contrario\",\"donde\",\"ejercicios\",\"sciencia\",\"eso\",\"siempre\",\"común\",\"veces\",\"malo\",\"consulta\",\"unas\",\"agravio\",\"cualquier\",\"haber\",\"después\",\"consisten\",\"dellas\",\"algunos\",\"género\",\"toca\",\"principio\",\"varón\",\"antes\",\"agora\",\"ésta\",\"opinión\",\"procede\",\"nuestra\",\"pueden\",\"éstos\"],\"x\":[0.32603577,4.1430955,-2.4392622,-30.089483,2.645646,-21.0065,-11.233125,6.1734595,10.969373,-2.9670422,-7.168914,-6.2874517,-2.243598,1.0947858,2.754431,1.9343355,-1.1575356,-3.489748,1.5167806,-7.9077444,4.6973085,-5.3175344,-12.46105,-7.445077,9.244893,6.8502703,2.0752435,-5.8773737,-2.4887402,11.703853,4.260261,-4.346571,-12.780691,-8.57935,-9.895823,9.15003,13.196618,-7.9984484,8.805893,-1.4221346,-4.9419007,-4.424496,3.3346255,-8.950485,-1.9341277,-14.325827,0.926247,16.102896,-17.193115,10.933749,8.043388,3.3856852,-15.244209,-1.3795553,-2.018081,6.9728017,3.8284402,-5.326781,19.92983,-18.101685,-12.521525,-5.276821,16.292086,0.035693448,6.409215,22.19773,-14.798036,41.01895,6.203453,-10.846885,20.876654,-1.7230524,-22.849789,-4.614877,-14.325253,-10.516504,-2.1758716,-20.987911,-6.430856,-6.766205,2.5327253,18.41593,21.514858,18.829576,16.521795,-8.869148,-22.784735,28.541197,-42.642204,10.565146,1.6584911,-25.04437,15.541554,-18.140787,26.737352,24.093636,-11.21308,9.79742,-16.45374,0.59012896,-42.393135,6.0589905,-7.879113,17.750172,22.059116,35.06714,-35.285225,6.042537,1.246394,-18.341967,6.975209,-0.5304656,34.095646,-24.02475,14.92305,-13.750975,-7.108722,-21.886229,-52.058712,-15.142592,28.860981,18.12643,9.644303,8.524862,5.354405,32.230587,-29.304638,-2.537561,23.668385,37.241222,11.023843,28.531693,-25.396185,7.1493897,29.832798,10.901636,-1.7707444,2.920316,25.768312,-6.1205163,7.884936,-3.011043,-51.5869,-14.4365835,35.821938,-6.485001,18.45206,37.287132,-4.3556223,58.86448,-55.504543,31.611391,34.459896,-42.953022,-67.63888,-29.85167,47.87467,7.1481,-9.389421,-2.0500505,6.485127,-61.559536,-52.886444,-36.304337,63.71801,52.929955,31.011745,42.167244,25.360949,40.671833,14.274105,-7.0159903,-6.4258256,21.130768,3.072593,18.07269,16.135128,42.886715,-16.011349,39.009415,17.377851,14.590272,5.1873074,49.64261,-19.32073,11.965632,18.197376,17.087934,75.732,49.74271,31.337368,-22.562895,-35.843987,72.25735,-10.342759,15.105705,42.56538,-7.2680664,12.762303,11.211248],\"y\":[79.05353,-167.83315,1.4892647,-127.1237,2.998154,126.55852,-8.356627,7.167535,21.922258,-12.666321,0.92585754,14.368049,5.6938334,-8.193324,1.1837112,-8.805556,-2.6863048,3.8462334,2.7947304,-1.2865475,-3.1485806,-9.659672,-6.2194624,14.9689045,2.3396564,-4.030875,-6.332781,4.5398054,-1.3351307,0.41469988,7.2290006,-8.166087,3.909531,9.680686,-1.7472034,7.106385,9.03319,10.05361,-1.6907375,-3.922785,-13.672778,16.265333,2.4237206,11.200048,-3.1983688,4.299338,10.777068,5.1556726,-1.7699533,-8.755673,-9.662236,8.445098,12.010787,12.144924,4.2177353,4.208369,5.3913937,-7.287277,-5.0626006,-6.625281,-5.2839446,-12.388301,14.044132,-13.151552,14.532631,-14.557539,-14.227555,10.808663,-14.805943,-2.863509,-4.507788,-16.077127,-10.728117,-19.598999,-8.13365,-11.987337,19.925022,-16.905367,-25.234325,-19.199656,-22.732723,-16.624933,2.553432,-23.113077,-10.837677,-19.076155,-7.6076136,0.9803466,-21.18211,-2.8225245,-17.585953,-28.220894,-18.78874,-28.938393,6.730849,-10.987421,-18.866503,-24.306532,-20.233719,5.1026597,-3.246353,-14.4001,-41.46959,19.422724,5.510909,-26.411081,-17.508326,-39.28455,-28.240986,-10.888693,9.314261,-36.109356,-4.143622,-42.886147,-11.514165,-22.234213,24.276798,-20.448381,30.611279,-17.1983,-15.169793,-5.9224267,52.789864,-23.721056,-25.9563,-49.709747,8.039463,-20.476215,-20.141714,-17.492525,-19.244286,-5.5112042,-23.229195,-17.661077,-3.5604515,-12.365169,-34.150475,-1.1289849,-24.849413,22.07382,8.94832,-14.556377,-24.997301,29.546436,49.139782,49.035816,-2.727578,-29.495981,-33.42343,37.457245,-12.730262,-17.473934,-19.461945,16.021446,-15.764459,-6.7192397,-30.91399,-32.637623,22.126003,-26.364456,48.096737,24.169205,20.791132,-36.434185,-11.728594,9.238884,-30.8806,-39.58989,-1.765037,6.8348293,-18.755278,60.33875,9.565454,-6.9879613,-31.347271,55.122345,-25.24607,-29.264849,-6.3791084,-8.135139,-12.936977,-15.754554,-10.173722,-18.5137,35.9718,15.283491,-42.53654,6.7267914,2.1959658,-22.114756,-25.722559,23.019962,-15.893417,13.743165,-14.829076,3.8313448,-24.280674,39.2817,-30.788893,0.89626867],\"z\":[88.972145,-380.40305,9.009272,-249.17679,-10.130449,307.56308,12.990969,-4.3679147,25.00264,-16.433775,5.9819574,11.564126,6.2036047,-2.6265795,2.761781,11.777157,0.33887103,0.64118856,-3.5349085,0.027876865,-4.9421005,16.045881,0.4775032,1.4636892,-0.8850844,2.1964412,-11.261899,-5.8406463,-7.9850464,-14.9758215,-15.399644,3.0787916,7.295715,-14.384926,-7.761985,-10.175794,-3.119172,6.791913,9.128794,8.695488,-1.8898287,-10.04371,8.986972,-6.5883765,-17.000254,-12.65538,-4.4858894,-9.037225,7.912855,9.720719,-7.5853086,2.5610123,-1.5966038,-17.18935,-18.487421,-22.265017,18.242151,-22.150608,0.093016095,13.34545,19.217606,9.102748,1.9621394,-8.168619,0.38927808,-2.9337335,10.364624,23.399307,15.072403,-16.393105,8.497866,15.060691,7.945288,5.063062,-11.107454,-17.098394,-16.721638,13.91683,-0.076304935,22.612165,1.7427559,-18.963345,4.543304,-3.2479928,4.324401,12.024761,-7.938813,-2.862476,5.096349,24.823555,22.072756,-9.087665,8.737455,18.619747,-19.164028,-21.888952,-3.7616463,-2.404959,20.003416,-27.969496,18.331223,-27.328184,-5.781494,-18.381823,-26.599375,-16.753801,1.1952618,15.524866,-4.100825,19.62666,-31.054111,-8.361674,-45.91769,18.116692,-13.223159,4.026003,-10.531184,5.9973927,22.905666,-12.577199,13.115548,-18.672682,-36.294067,-23.26303,-15.645757,-44.082325,-21.258541,-5.109509,-24.359344,27.645338,-15.877412,-14.034725,18.439724,29.58013,-36.84578,-20.988445,-17.983755,22.90551,19.400148,-24.682724,-48.42244,-24.676243,18.62092,29.610764,-16.864159,23.279598,-28.435919,8.962098,-34.36001,-23.855217,-30.310575,-19.70544,-11.360773,-17.80647,21.24672,-57.443752,-27.197702,-20.21173,-42.31362,23.702991,-12.821057,27.612616,-3.2392147,41.84763,-5.7368217,-40.303837,-33.942314,-44.927505,-21.067305,-38.98421,-27.209131,-38.944016,27.259039,-36.189964,-46.737576,-46.835556,-19.253904,-11.220924,-31.049559,-38.926384,29.446436,-59.547436,-62.77401,-50.225567,-57.4907,44.701424,38.638744,-52.864113,1.708264,52.087185,-52.646908,-25.705305,-53.863472,-0.85485405,3.417093,-63.890545,19.676748,-52.282272,27.620077,43.886814],\"type\":\"scatter3d\"}],                        {\"template\":{\"data\":{\"histogram2dcontour\":[{\"type\":\"histogram2dcontour\",\"colorbar\":{\"outlinewidth\":0,\"ticks\":\"\"},\"colorscale\":[[0.0,\"#0d0887\"],[0.1111111111111111,\"#46039f\"],[0.2222222222222222,\"#7201a8\"],[0.3333333333333333,\"#9c179e\"],[0.4444444444444444,\"#bd3786\"],[0.5555555555555556,\"#d8576b\"],[0.6666666666666666,\"#ed7953\"],[0.7777777777777778,\"#fb9f3a\"],[0.8888888888888888,\"#fdca26\"],[1.0,\"#f0f921\"]]}],\"choropleth\":[{\"type\":\"choropleth\",\"colorbar\":{\"outlinewidth\":0,\"ticks\":\"\"}}],\"histogram2d\":[{\"type\":\"histogram2d\",\"colorbar\":{\"outlinewidth\":0,\"ticks\":\"\"},\"colorscale\":[[0.0,\"#0d0887\"],[0.1111111111111111,\"#46039f\"],[0.2222222222222222,\"#7201a8\"],[0.3333333333333333,\"#9c179e\"],[0.4444444444444444,\"#bd3786\"],[0.5555555555555556,\"#d8576b\"],[0.6666666666666666,\"#ed7953\"],[0.7777777777777778,\"#fb9f3a\"],[0.8888888888888888,\"#fdca26\"],[1.0,\"#f0f921\"]]}],\"heatmap\":[{\"type\":\"heatmap\",\"colorbar\":{\"outlinewidth\":0,\"ticks\":\"\"},\"colorscale\":[[0.0,\"#0d0887\"],[0.1111111111111111,\"#46039f\"],[0.2222222222222222,\"#7201a8\"],[0.3333333333333333,\"#9c179e\"],[0.4444444444444444,\"#bd3786\"],[0.5555555555555556,\"#d8576b\"],[0.6666666666666666,\"#ed7953\"],[0.7777777777777778,\"#fb9f3a\"],[0.8888888888888888,\"#fdca26\"],[1.0,\"#f0f921\"]]}],\"heatmapgl\":[{\"type\":\"heatmapgl\",\"colorbar\":{\"outlinewidth\":0,\"ticks\":\"\"},\"colorscale\":[[0.0,\"#0d0887\"],[0.1111111111111111,\"#46039f\"],[0.2222222222222222,\"#7201a8\"],[0.3333333333333333,\"#9c179e\"],[0.4444444444444444,\"#bd3786\"],[0.5555555555555556,\"#d8576b\"],[0.6666666666666666,\"#ed7953\"],[0.7777777777777778,\"#fb9f3a\"],[0.8888888888888888,\"#fdca26\"],[1.0,\"#f0f921\"]]}],\"contourcarpet\":[{\"type\":\"contourcarpet\",\"colorbar\":{\"outlinewidth\":0,\"ticks\":\"\"}}],\"contour\":[{\"type\":\"contour\",\"colorbar\":{\"outlinewidth\":0,\"ticks\":\"\"},\"colorscale\":[[0.0,\"#0d0887\"],[0.1111111111111111,\"#46039f\"],[0.2222222222222222,\"#7201a8\"],[0.3333333333333333,\"#9c179e\"],[0.4444444444444444,\"#bd3786\"],[0.5555555555555556,\"#d8576b\"],[0.6666666666666666,\"#ed7953\"],[0.7777777777777778,\"#fb9f3a\"],[0.8888888888888888,\"#fdca26\"],[1.0,\"#f0f921\"]]}],\"surface\":[{\"type\":\"surface\",\"colorbar\":{\"outlinewidth\":0,\"ticks\":\"\"},\"colorscale\":[[0.0,\"#0d0887\"],[0.1111111111111111,\"#46039f\"],[0.2222222222222222,\"#7201a8\"],[0.3333333333333333,\"#9c179e\"],[0.4444444444444444,\"#bd3786\"],[0.5555555555555556,\"#d8576b\"],[0.6666666666666666,\"#ed7953\"],[0.7777777777777778,\"#fb9f3a\"],[0.8888888888888888,\"#fdca26\"],[1.0,\"#f0f921\"]]}],\"mesh3d\":[{\"type\":\"mesh3d\",\"colorbar\":{\"outlinewidth\":0,\"ticks\":\"\"}}],\"scatter\":[{\"fillpattern\":{\"fillmode\":\"overlay\",\"size\":10,\"solidity\":0.2},\"type\":\"scatter\"}],\"parcoords\":[{\"type\":\"parcoords\",\"line\":{\"colorbar\":{\"outlinewidth\":0,\"ticks\":\"\"}}}],\"scatterpolargl\":[{\"type\":\"scatterpolargl\",\"marker\":{\"colorbar\":{\"outlinewidth\":0,\"ticks\":\"\"}}}],\"bar\":[{\"error_x\":{\"color\":\"#2a3f5f\"},\"error_y\":{\"color\":\"#2a3f5f\"},\"marker\":{\"line\":{\"color\":\"#E5ECF6\",\"width\":0.5},\"pattern\":{\"fillmode\":\"overlay\",\"size\":10,\"solidity\":0.2}},\"type\":\"bar\"}],\"scattergeo\":[{\"type\":\"scattergeo\",\"marker\":{\"colorbar\":{\"outlinewidth\":0,\"ticks\":\"\"}}}],\"scatterpolar\":[{\"type\":\"scatterpolar\",\"marker\":{\"colorbar\":{\"outlinewidth\":0,\"ticks\":\"\"}}}],\"histogram\":[{\"marker\":{\"pattern\":{\"fillmode\":\"overlay\",\"size\":10,\"solidity\":0.2}},\"type\":\"histogram\"}],\"scattergl\":[{\"type\":\"scattergl\",\"marker\":{\"colorbar\":{\"outlinewidth\":0,\"ticks\":\"\"}}}],\"scatter3d\":[{\"type\":\"scatter3d\",\"line\":{\"colorbar\":{\"outlinewidth\":0,\"ticks\":\"\"}},\"marker\":{\"colorbar\":{\"outlinewidth\":0,\"ticks\":\"\"}}}],\"scattermapbox\":[{\"type\":\"scattermapbox\",\"marker\":{\"colorbar\":{\"outlinewidth\":0,\"ticks\":\"\"}}}],\"scatterternary\":[{\"type\":\"scatterternary\",\"marker\":{\"colorbar\":{\"outlinewidth\":0,\"ticks\":\"\"}}}],\"scattercarpet\":[{\"type\":\"scattercarpet\",\"marker\":{\"colorbar\":{\"outlinewidth\":0,\"ticks\":\"\"}}}],\"carpet\":[{\"aaxis\":{\"endlinecolor\":\"#2a3f5f\",\"gridcolor\":\"white\",\"linecolor\":\"white\",\"minorgridcolor\":\"white\",\"startlinecolor\":\"#2a3f5f\"},\"baxis\":{\"endlinecolor\":\"#2a3f5f\",\"gridcolor\":\"white\",\"linecolor\":\"white\",\"minorgridcolor\":\"white\",\"startlinecolor\":\"#2a3f5f\"},\"type\":\"carpet\"}],\"table\":[{\"cells\":{\"fill\":{\"color\":\"#EBF0F8\"},\"line\":{\"color\":\"white\"}},\"header\":{\"fill\":{\"color\":\"#C8D4E3\"},\"line\":{\"color\":\"white\"}},\"type\":\"table\"}],\"barpolar\":[{\"marker\":{\"line\":{\"color\":\"#E5ECF6\",\"width\":0.5},\"pattern\":{\"fillmode\":\"overlay\",\"size\":10,\"solidity\":0.2}},\"type\":\"barpolar\"}],\"pie\":[{\"automargin\":true,\"type\":\"pie\"}]},\"layout\":{\"autotypenumbers\":\"strict\",\"colorway\":[\"#636efa\",\"#EF553B\",\"#00cc96\",\"#ab63fa\",\"#FFA15A\",\"#19d3f3\",\"#FF6692\",\"#B6E880\",\"#FF97FF\",\"#FECB52\"],\"font\":{\"color\":\"#2a3f5f\"},\"hovermode\":\"closest\",\"hoverlabel\":{\"align\":\"left\"},\"paper_bgcolor\":\"white\",\"plot_bgcolor\":\"#E5ECF6\",\"polar\":{\"bgcolor\":\"#E5ECF6\",\"angularaxis\":{\"gridcolor\":\"white\",\"linecolor\":\"white\",\"ticks\":\"\"},\"radialaxis\":{\"gridcolor\":\"white\",\"linecolor\":\"white\",\"ticks\":\"\"}},\"ternary\":{\"bgcolor\":\"#E5ECF6\",\"aaxis\":{\"gridcolor\":\"white\",\"linecolor\":\"white\",\"ticks\":\"\"},\"baxis\":{\"gridcolor\":\"white\",\"linecolor\":\"white\",\"ticks\":\"\"},\"caxis\":{\"gridcolor\":\"white\",\"linecolor\":\"white\",\"ticks\":\"\"}},\"coloraxis\":{\"colorbar\":{\"outlinewidth\":0,\"ticks\":\"\"}},\"colorscale\":{\"sequential\":[[0.0,\"#0d0887\"],[0.1111111111111111,\"#46039f\"],[0.2222222222222222,\"#7201a8\"],[0.3333333333333333,\"#9c179e\"],[0.4444444444444444,\"#bd3786\"],[0.5555555555555556,\"#d8576b\"],[0.6666666666666666,\"#ed7953\"],[0.7777777777777778,\"#fb9f3a\"],[0.8888888888888888,\"#fdca26\"],[1.0,\"#f0f921\"]],\"sequentialminus\":[[0.0,\"#0d0887\"],[0.1111111111111111,\"#46039f\"],[0.2222222222222222,\"#7201a8\"],[0.3333333333333333,\"#9c179e\"],[0.4444444444444444,\"#bd3786\"],[0.5555555555555556,\"#d8576b\"],[0.6666666666666666,\"#ed7953\"],[0.7777777777777778,\"#fb9f3a\"],[0.8888888888888888,\"#fdca26\"],[1.0,\"#f0f921\"]],\"diverging\":[[0,\"#8e0152\"],[0.1,\"#c51b7d\"],[0.2,\"#de77ae\"],[0.3,\"#f1b6da\"],[0.4,\"#fde0ef\"],[0.5,\"#f7f7f7\"],[0.6,\"#e6f5d0\"],[0.7,\"#b8e186\"],[0.8,\"#7fbc41\"],[0.9,\"#4d9221\"],[1,\"#276419\"]]},\"xaxis\":{\"gridcolor\":\"white\",\"linecolor\":\"white\",\"ticks\":\"\",\"title\":{\"standoff\":15},\"zerolinecolor\":\"white\",\"automargin\":true,\"zerolinewidth\":2},\"yaxis\":{\"gridcolor\":\"white\",\"linecolor\":\"white\",\"ticks\":\"\",\"title\":{\"standoff\":15},\"zerolinecolor\":\"white\",\"automargin\":true,\"zerolinewidth\":2},\"scene\":{\"xaxis\":{\"backgroundcolor\":\"#E5ECF6\",\"gridcolor\":\"white\",\"linecolor\":\"white\",\"showbackground\":true,\"ticks\":\"\",\"zerolinecolor\":\"white\",\"gridwidth\":2},\"yaxis\":{\"backgroundcolor\":\"#E5ECF6\",\"gridcolor\":\"white\",\"linecolor\":\"white\",\"showbackground\":true,\"ticks\":\"\",\"zerolinecolor\":\"white\",\"gridwidth\":2},\"zaxis\":{\"backgroundcolor\":\"#E5ECF6\",\"gridcolor\":\"white\",\"linecolor\":\"white\",\"showbackground\":true,\"ticks\":\"\",\"zerolinecolor\":\"white\",\"gridwidth\":2}},\"shapedefaults\":{\"line\":{\"color\":\"#2a3f5f\"}},\"annotationdefaults\":{\"arrowcolor\":\"#2a3f5f\",\"arrowhead\":0,\"arrowwidth\":1},\"geo\":{\"bgcolor\":\"white\",\"landcolor\":\"#E5ECF6\",\"subunitcolor\":\"white\",\"showland\":true,\"showlakes\":true,\"lakecolor\":\"white\"},\"title\":{\"x\":0.05},\"mapbox\":{\"style\":\"light\"}}},\"scene\":{\"domain\":{\"x\":[0.0,1.0],\"y\":[0.0,1.0]},\"xaxis\":{\"title\":{\"text\":\"x\"}},\"yaxis\":{\"title\":{\"text\":\"y\"}},\"zaxis\":{\"title\":{\"text\":\"z\"}}},\"legend\":{\"tracegroupgap\":0},\"margin\":{\"t\":60}},                        {\"responsive\": true}                    ).then(function(){\n",
              "                            \n",
              "var gd = document.getElementById('c5638eb9-e1bf-41e2-a91b-78bb2aef8f82');\n",
              "var x = new MutationObserver(function (mutations, observer) {{\n",
              "        var display = window.getComputedStyle(gd).display;\n",
              "        if (!display || display === 'none') {{\n",
              "            console.log([gd, 'removed!']);\n",
              "            Plotly.purge(gd);\n",
              "            observer.disconnect();\n",
              "        }}\n",
              "}});\n",
              "\n",
              "// Listen for the removal of the full notebook cells\n",
              "var notebookContainer = gd.closest('#notebook-container');\n",
              "if (notebookContainer) {{\n",
              "    x.observe(notebookContainer, {childList: true});\n",
              "}}\n",
              "\n",
              "// Listen for the clearing of the current output cell\n",
              "var outputEl = gd.closest('.output');\n",
              "if (outputEl) {{\n",
              "    x.observe(outputEl, {childList: true});\n",
              "}}\n",
              "\n",
              "                        })                };                            </script>        </div>\n",
              "</body>\n",
              "</html>"
            ]
          },
          "metadata": {},
          "output_type": "display_data"
        }
      ],
      "source": [
        "vecs, labels = reduce_dimensions(embeddings_model,3)\n",
        "fig = px.scatter_3d(x=vecs[:MAX_WORDS,0], y=vecs[:MAX_WORDS,1], z=vecs[:MAX_WORDS,2],text=labels[:MAX_WORDS])\n",
        "fig.update_traces(marker_size = 2)\n",
        "fig.show()"
      ]
    },
    {
      "cell_type": "markdown",
      "metadata": {},
      "source": [
        "# Conclusiones\n",
        "\n",
        "### Lo que funcionó:\n",
        "\n",
        "El modelo Word2Vec se entrenó bien sobre el texto de Aristóteles y logró capturar relaciones semánticas interesantes. Las palabras más similares a \"virtud\" incluyeron términos como \"perfección\" y \"heroica\", lo cual tiene sentido filosóficamente. Para \"felicidad\" encontró palabras como \"contemplación\" y \"perfección\", que van bien con la idea de eudaimonia.\n",
        "\n",
        "### Lo que no funcionó:\n",
        "\n",
        "El corpus era chico y eso limitó la calidad de los embeddings. Las analogías que generó no siempre fueron intuitivas filosóficamente, como cuando relacionó \"felicidad\" con \"pesadas\" en una analogía."
      ]
    }
  ],
  "metadata": {
    "colab": {
      "provenance": []
    },
    "kernelspec": {
      "display_name": "env",
      "language": "python",
      "name": "python3"
    },
    "language_info": {
      "codemirror_mode": {
        "name": "ipython",
        "version": 3
      },
      "file_extension": ".py",
      "mimetype": "text/x-python",
      "name": "python",
      "nbconvert_exporter": "python",
      "pygments_lexer": "ipython3",
      "version": "3.13.5"
    }
  },
  "nbformat": 4,
  "nbformat_minor": 0
}
